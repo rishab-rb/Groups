{
 "cells": [
  {
   "cell_type": "markdown",
   "metadata": {},
   "source": [
    "# Groups"
   ]
  },
  {
   "cell_type": "raw",
   "metadata": {},
   "source": [
    "1) Finite Groups:\n",
    "    ~ 'Set with elements and 1 Group Operation.'"
   ]
  },
  {
   "cell_type": "raw",
   "metadata": {},
   "source": [
    "Conditions:\n",
    "a,b ∈ G\n",
    "◦ = Group Operation (eg. +, -, /, x)\n",
    "\n",
    "    i) Closeness:\n",
    "                         a ◦ b = c ∈ G\n",
    "    \n",
    "   ii) Associativity:\n",
    "                         a ◦ (b ◦ c) = (a ◦ b) ◦ c\n",
    "                     \n",
    "  iii) Neutral Element:\n",
    "                         a ◦ 1 = 1 ◦ a = a\n",
    "                         \n",
    "   iv) Inverse Element:      \n",
    "                         a ◦ d  = d ◦ a = 1  ,   d ∈ G      (d is the inverse of a)    \n",
    "                         \n",
    "    v) Commutativity:\n",
    "                         a ◦ b = b ◦ a"
   ]
  },
  {
   "cell_type": "raw",
   "metadata": {},
   "source": [
    "·) Abelian Group\n",
    "    ~ A group which follows all the 5 conditions mentioned above."
   ]
  },
  {
   "cell_type": "markdown",
   "metadata": {},
   "source": [
    "Experiment 1:"
   ]
  },
  {
   "cell_type": "raw",
   "metadata": {},
   "source": [
    "Is G = { Z(9), x } a group?\n",
    "    ◦ = x = Multiplication\n",
    "\n",
    "Z(9) = {0,1,2,3,4,5,6,7,8}\n",
    "\n",
    "G follows i, ii, iii and v.\n",
    "\n",
    "For Inverse of an element 'a' to exist, gcd(a,9) == 1\n",
    "\n",
    "Def Z*(9) = { Z(9) without the elements that don't have inverses }\n",
    "\n",
    "Z*(9) = {1,2,4,5,7,8}\n",
    "\n",
    "Z*(9) is a Alebian Group\n"
   ]
  },
  {
   "cell_type": "markdown",
   "metadata": {},
   "source": [
    "Code to calculate GCD of two numbers:"
   ]
  },
  {
   "cell_type": "code",
   "execution_count": 93,
   "metadata": {},
   "outputs": [],
   "source": [
    "def gcd(a, b):\n",
    "    while b != 0:\n",
    "        a, b = b, a % b\n",
    "    return a"
   ]
  },
  {
   "cell_type": "code",
   "execution_count": 95,
   "metadata": {},
   "outputs": [
    {
     "name": "stdout",
     "output_type": "stream",
     "text": [
      "7\n"
     ]
    }
   ],
   "source": [
    "print gcd(973,301)"
   ]
  },
  {
   "cell_type": "raw",
   "metadata": {},
   "source": []
  },
  {
   "cell_type": "raw",
   "metadata": {},
   "source": [
    "NOTE:\n",
    "\n",
    "Z*(p) , p is prime\n",
    "\n",
    "forms a multiplicative group.\n",
    "\n",
    "Z*(p) = {1,2,3, ... , p-1}\n",
    "\n",
    "for every element 'a' in Z*(p):\n",
    "                                gcd(a,p) == 1\n",
    "\n",
    "=> every element 'a' in Z*(p) has an inverse."
   ]
  },
  {
   "cell_type": "raw",
   "metadata": {},
   "source": []
  },
  {
   "cell_type": "raw",
   "metadata": {},
   "source": []
  },
  {
   "cell_type": "raw",
   "metadata": {},
   "source": [
    "2) Cyclic Groups:\n",
    "    ~ 'A Group G which contains an element α with ord(α) = |G| is said to be a 'Cyclic Group'.\n",
    "       \n",
    "    ·) Cardinality of G = number of elements in G = |G|  \n",
    "    \n",
    "    ·) Order of an Element:\n",
    "        The ord(a) of an element 'a' of a Group G is the smallest positive integer k such that,\n",
    "            \n",
    "            a^k == 1\n",
    "                (Where 1 is the Identity Element of G.    \n",
    "     \n",
    "     ·) Generators or Primitive Elements:\n",
    "        Elements with maximum order.           "
   ]
  },
  {
   "cell_type": "markdown",
   "metadata": {},
   "source": [
    "Experiment 2:"
   ]
  },
  {
   "cell_type": "raw",
   "metadata": {},
   "source": [
    "Z(11) = {0,1,2,3,4,5,6,7,8,9,10}\n",
    "\n",
    "Z*(11) = {1,2,3,4,5,6,7,8,9,10}\n",
    "\n",
    "Q) What happens if we compute all the powers of a = 3 ?\n",
    "\n",
    "a^1 = 3 mod(11) = 3\n",
    "a^2 = 9 mod(11) = 9\n",
    "a^3 = 27 mod(11) = 5\n",
    "a^4 = 5.3 mod(11) = 15 mod(11) = 4\n",
    "a^5 = 4.3 mod(11) = 12 mod(11) = 1\n",
    "\n",
    "a^6 = 3 mod(11) = 3\n",
    "a^7 = 9 mod(11) = 9\n",
    "a^8 = 27 mod(11) = 5\n",
    "a^9 = 15 mod(11) = 4\n",
    "a^10 = 12 mod(11) = 1\n",
    ".\n",
    ".\n",
    ".\n",
    "\n",
    "\n",
    "\n",
    "\n",
    "The product repeats after every 5 iteration, => ord(3) = 5"
   ]
  },
  {
   "cell_type": "markdown",
   "metadata": {},
   "source": [
    "Experiment 3:"
   ]
  },
  {
   "cell_type": "raw",
   "metadata": {},
   "source": [
    "Z(11) = {0,1,2,3,4,5,6,7,8,9,10}\n",
    "\n",
    "G = Z*(11) = {1,2,3,4,5,6,7,8,9,10}\n",
    "\n",
    "Q) ord(2) = ?\n",
    "\n",
    "a^1 = 2\n",
    "a^2 = 4\n",
    "a^3 = 8 \n",
    "a^4 = 5\n",
    "a^5 = 10\n",
    "a^6 = 9\n",
    "a^7 = 7\n",
    "a^8 = 3\n",
    "a^9 = 6\n",
    "a^10 = 1\n",
    "\n",
    "a^11 = 2\n",
    "a^12 = 4\n",
    ".\n",
    ".\n",
    ".\n",
    "\n",
    "\n",
    "ord(2) = 10 = |G|\n",
    "\n",
    "=> a = 2 is a Generator/Primitive Element.\n",
    "\n",
    "·) Remark:\n",
    "    Products of a^i contains every element from Z*(11)"
   ]
  },
  {
   "cell_type": "raw",
   "metadata": {},
   "source": [
    "Properties of a Cyclic Group:\n",
    "\n",
    "·) a^|G| == 1\n",
    "\n",
    "·) ord(a) divides |G|"
   ]
  },
  {
   "cell_type": "raw",
   "metadata": {},
   "source": []
  },
  {
   "cell_type": "markdown",
   "metadata": {},
   "source": [
    "Code to compute Generators:"
   ]
  },
  {
   "cell_type": "code",
   "execution_count": 87,
   "metadata": {},
   "outputs": [],
   "source": [
    "def gen(n):\n",
    "    z = []\n",
    "    Z = []\n",
    "    Generators = []\n",
    "    \n",
    "    for i in range(n):\n",
    "        z.append(i)\n",
    "        \n",
    "    for i in range(1,n):\n",
    "        Z.append(i)\n",
    "     \n",
    "    for i in range(len(Z)):\n",
    "        d = 1\n",
    "        b = 0\n",
    "        while b != 1:\n",
    "            b = (Z[i]**d)%n\n",
    "            if d == len(Z) and b == 1:\n",
    "                Generators.append(Z[i])\n",
    "            d+=1       \n",
    "                    \n",
    "    print \"Z (\",n,\"):\",z\n",
    "    print \"Z*(\",n,\"):\",Z\n",
    "    print \"Generators:\", Generators"
   ]
  },
  {
   "cell_type": "code",
   "execution_count": 92,
   "metadata": {},
   "outputs": [
    {
     "name": "stdout",
     "output_type": "stream",
     "text": [
      "Z ( 11 ): [0, 1, 2, 3, 4, 5, 6, 7, 8, 9, 10]\n",
      "Z*( 11 ): [1, 2, 3, 4, 5, 6, 7, 8, 9, 10]\n",
      "Generators: [2, 6, 7, 8]\n"
     ]
    }
   ],
   "source": [
    "gen(11)"
   ]
  },
  {
   "cell_type": "code",
   "execution_count": null,
   "metadata": {},
   "outputs": [],
   "source": []
  },
  {
   "cell_type": "code",
   "execution_count": null,
   "metadata": {},
   "outputs": [],
   "source": []
  },
  {
   "cell_type": "code",
   "execution_count": null,
   "metadata": {},
   "outputs": [],
   "source": []
  },
  {
   "cell_type": "code",
   "execution_count": null,
   "metadata": {},
   "outputs": [],
   "source": []
  },
  {
   "cell_type": "code",
   "execution_count": null,
   "metadata": {},
   "outputs": [],
   "source": []
  },
  {
   "cell_type": "code",
   "execution_count": null,
   "metadata": {},
   "outputs": [],
   "source": []
  },
  {
   "cell_type": "code",
   "execution_count": null,
   "metadata": {},
   "outputs": [],
   "source": []
  }
 ],
 "metadata": {
  "kernelspec": {
   "display_name": "Python 2",
   "language": "python",
   "name": "python2"
  },
  "language_info": {
   "codemirror_mode": {
    "name": "ipython",
    "version": 2
   },
   "file_extension": ".py",
   "mimetype": "text/x-python",
   "name": "python",
   "nbconvert_exporter": "python",
   "pygments_lexer": "ipython2",
   "version": "2.7.14"
  }
 },
 "nbformat": 4,
 "nbformat_minor": 2
}
